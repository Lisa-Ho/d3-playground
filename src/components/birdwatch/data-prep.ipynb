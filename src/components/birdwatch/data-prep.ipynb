{
 "cells": [
  {
   "cell_type": "markdown",
   "id": "0a6e6a7d",
   "metadata": {},
   "source": [
    "# Data prep"
   ]
  },
  {
   "cell_type": "code",
   "execution_count": 1,
   "id": "1eba9b3c",
   "metadata": {},
   "outputs": [],
   "source": [
    "import pandas as pd\n",
    "import matplotlib.pyplot as plt"
   ]
  },
  {
   "cell_type": "code",
   "execution_count": 63,
   "id": "70bf24b6",
   "metadata": {},
   "outputs": [],
   "source": [
    "# import data\n",
    "uk = pd.read_csv(\"BigGardenBirdwatch2025_full_UK_results.csv\")\n",
    "country = pd.read_csv(\"BigGardenBirdwatch2025_full_country_results.csv\")\n",
    "top10 = pd.read_csv(\"BigGardenWatch_2022-2025_top10.csv\")\n",
    "county = pd.read_csv(\"BigGardenBirdwatch2025_full_county_results.csv\")\n",
    "\n",
    "# combine all data sets\n",
    "df = pd.concat([uk, country, county]).reset_index(drop=True)\n",
    "df = pd.merge(df, top10[[\"Region_name\", \"Species\", \"Top10\",]], \n",
    "              left_on=[\"Region_name\", \"Species\"], right_on=[\"Region_name\", \"Species\"], \n",
    "              how=\"left\").drop_duplicates().reset_index(drop=True)\n",
    "df[\"Top10\"] = df[\"Top10\"].fillna(0)\n",
    "\n",
    "top10 = pd.merge(top10, df[[\"Region_name\", \"Species\", \"2025_perc_gardens\",\"perc_change_n\", \"change_perc_gardens\"]],\n",
    "                 left_on=[\"Region_name\", \"Species\"], right_on=[\"Region_name\", \"Species\"],\n",
    "                 how=\"left\")"
   ]
  },
  {
   "cell_type": "code",
   "execution_count": null,
   "id": "b89a5678",
   "metadata": {},
   "outputs": [
    {
     "data": {
      "text/plain": [
       "Index(['Species', 'Region_name', 'Region_type', '2025_mean_n', '2025_rank',\n",
       "       '2025_perc_gardens', '2024_mean_n', '2024_rank', '2024_perc_gardens',\n",
       "       'perc_change_n', 'rank_change', 'change_perc_gardens', 'Top10'],\n",
       "      dtype='object')"
      ]
     },
     "execution_count": 62,
     "metadata": {},
     "output_type": "execute_result"
    }
   ],
   "source": [
    "top10_2025_stats = top10[[]]"
   ]
  },
  {
   "cell_type": "code",
   "execution_count": 65,
   "id": "44b426d7",
   "metadata": {},
   "outputs": [
    {
     "data": {
      "text/plain": [
       "Index(['Species', 'Count', 'Region_name', 'Year', 'Top10', 'Rank',\n",
       "       '2025_perc_gardens', 'perc_change_n', 'change_perc_gardens'],\n",
       "      dtype='object')"
      ]
     },
     "execution_count": 65,
     "metadata": {},
     "output_type": "execute_result"
    }
   ],
   "source": [
    "top10.columns"
   ]
  },
  {
   "cell_type": "markdown",
   "id": "48d0b8c4",
   "metadata": {},
   "source": [
    "## Explore"
   ]
  },
  {
   "cell_type": "code",
   "execution_count": 43,
   "id": "9d84dd42",
   "metadata": {},
   "outputs": [
    {
     "data": {
      "text/plain": [
       "<matplotlib.collections.PathCollection at 0x2593cf16280>"
      ]
     },
     "execution_count": 43,
     "metadata": {},
     "output_type": "execute_result"
    },
    {
     "data": {
      "image/png": "[encoded data removed]",
      "text/plain": [
       "<Figure size 432x288 with 1 Axes>"
      ]
     },
     "metadata": {
      "needs_background": "light"
     },
     "output_type": "display_data"
    }
   ],
   "source": [
    "region = \"England\"\n",
    "pivot = df[(df[\"Top10\"]==1) & (df[\"Region_name\"]==region)]\n",
    "\n",
    "fig, ax = plt.subplots()\n",
    "ax.scatter(pivot[\"2025_perc_gardens\"], pivot[\"2024_perc_gardens\"])"
   ]
  },
  {
   "cell_type": "code",
   "execution_count": 64,
   "id": "a3e2cf4a",
   "metadata": {},
   "outputs": [
    {
     "data": {
      "text/html": [
       "<div>\n",
       "<style scoped>\n",
       "    .dataframe tbody tr th:only-of-type {\n",
       "        vertical-align: middle;\n",
       "    }\n",
       "\n",
       "    .dataframe tbody tr th {\n",
       "        vertical-align: top;\n",
       "    }\n",
       "\n",
       "    .dataframe thead th {\n",
       "        text-align: right;\n",
       "    }\n",
       "</style>\n",
       "<table border=\"1\" class=\"dataframe\">\n",
       "  <thead>\n",
       "    <tr style=\"text-align: right;\">\n",
       "      <th></th>\n",
       "      <th>Species</th>\n",
       "      <th>Count</th>\n",
       "      <th>Region_name</th>\n",
       "      <th>Year</th>\n",
       "      <th>Top10</th>\n",
       "      <th>Rank</th>\n",
       "      <th>2025_perc_gardens</th>\n",
       "      <th>perc_change_n</th>\n",
       "      <th>change_perc_gardens</th>\n",
       "    </tr>\n",
       "  </thead>\n",
       "  <tbody>\n",
       "    <tr>\n",
       "      <th>0</th>\n",
       "      <td>House_sparrow</td>\n",
       "      <td>1,211,260</td>\n",
       "      <td>UK</td>\n",
       "      <td>2025</td>\n",
       "      <td>1</td>\n",
       "      <td>1</td>\n",
       "      <td>59.4</td>\n",
       "      <td>-11.30%</td>\n",
       "      <td>-4.80%</td>\n",
       "    </tr>\n",
       "    <tr>\n",
       "      <th>1</th>\n",
       "      <td>Blue_tit</td>\n",
       "      <td>946,698</td>\n",
       "      <td>UK</td>\n",
       "      <td>2025</td>\n",
       "      <td>1</td>\n",
       "      <td>2</td>\n",
       "      <td>76.2</td>\n",
       "      <td>-8.60%</td>\n",
       "      <td>-4.50%</td>\n",
       "    </tr>\n",
       "    <tr>\n",
       "      <th>2</th>\n",
       "      <td>Woodpigeon</td>\n",
       "      <td>859,780</td>\n",
       "      <td>UK</td>\n",
       "      <td>2025</td>\n",
       "      <td>1</td>\n",
       "      <td>3</td>\n",
       "      <td>78.4</td>\n",
       "      <td>8.70%</td>\n",
       "      <td>2.30%</td>\n",
       "    </tr>\n",
       "    <tr>\n",
       "      <th>3</th>\n",
       "      <td>Starling</td>\n",
       "      <td>784,741</td>\n",
       "      <td>UK</td>\n",
       "      <td>2025</td>\n",
       "      <td>1</td>\n",
       "      <td>4</td>\n",
       "      <td>34.4</td>\n",
       "      <td>-5.70%</td>\n",
       "      <td>-3.50%</td>\n",
       "    </tr>\n",
       "    <tr>\n",
       "      <th>4</th>\n",
       "      <td>Blackbird</td>\n",
       "      <td>732,472</td>\n",
       "      <td>UK</td>\n",
       "      <td>2025</td>\n",
       "      <td>1</td>\n",
       "      <td>5</td>\n",
       "      <td>81.8</td>\n",
       "      <td>9.30%</td>\n",
       "      <td>3.00%</td>\n",
       "    </tr>\n",
       "    <tr>\n",
       "      <th>...</th>\n",
       "      <td>...</td>\n",
       "      <td>...</td>\n",
       "      <td>...</td>\n",
       "      <td>...</td>\n",
       "      <td>...</td>\n",
       "      <td>...</td>\n",
       "      <td>...</td>\n",
       "      <td>...</td>\n",
       "      <td>...</td>\n",
       "    </tr>\n",
       "    <tr>\n",
       "      <th>195</th>\n",
       "      <td>Goldfinch</td>\n",
       "      <td>13,528</td>\n",
       "      <td>N Ireland</td>\n",
       "      <td>2022</td>\n",
       "      <td>1</td>\n",
       "      <td>6</td>\n",
       "      <td>35.2</td>\n",
       "      <td>6.00%</td>\n",
       "      <td>3.70%</td>\n",
       "    </tr>\n",
       "    <tr>\n",
       "      <th>196</th>\n",
       "      <td>Great_tit</td>\n",
       "      <td>11,761</td>\n",
       "      <td>N Ireland</td>\n",
       "      <td>2022</td>\n",
       "      <td>1</td>\n",
       "      <td>7</td>\n",
       "      <td>57.2</td>\n",
       "      <td>-15.90%</td>\n",
       "      <td>-7.70%</td>\n",
       "    </tr>\n",
       "    <tr>\n",
       "      <th>197</th>\n",
       "      <td>Robin</td>\n",
       "      <td>10,645</td>\n",
       "      <td>N Ireland</td>\n",
       "      <td>2022</td>\n",
       "      <td>1</td>\n",
       "      <td>8</td>\n",
       "      <td>90.8</td>\n",
       "      <td>10.90%</td>\n",
       "      <td>1.10%</td>\n",
       "    </tr>\n",
       "    <tr>\n",
       "      <th>198</th>\n",
       "      <td>Magpie</td>\n",
       "      <td>9,400</td>\n",
       "      <td>N Ireland</td>\n",
       "      <td>2022</td>\n",
       "      <td>1</td>\n",
       "      <td>9</td>\n",
       "      <td>67.3</td>\n",
       "      <td>4.70%</td>\n",
       "      <td>3.10%</td>\n",
       "    </tr>\n",
       "    <tr>\n",
       "      <th>199</th>\n",
       "      <td>Coal_tit</td>\n",
       "      <td>7,719</td>\n",
       "      <td>N Ireland</td>\n",
       "      <td>2022</td>\n",
       "      <td>1</td>\n",
       "      <td>10</td>\n",
       "      <td>49.9</td>\n",
       "      <td>-5.10%</td>\n",
       "      <td>-1.40%</td>\n",
       "    </tr>\n",
       "  </tbody>\n",
       "</table>\n",
       "<p>200 rows × 9 columns</p>\n",
       "</div>"
      ],
      "text/plain": [
       "           Species      Count Region_name  Year  Top10  Rank  \\\n",
       "0    House_sparrow  1,211,260          UK  2025      1     1   \n",
       "1         Blue_tit    946,698          UK  2025      1     2   \n",
       "2       Woodpigeon    859,780          UK  2025      1     3   \n",
       "3         Starling    784,741          UK  2025      1     4   \n",
       "4        Blackbird    732,472          UK  2025      1     5   \n",
       "..             ...        ...         ...   ...    ...   ...   \n",
       "195      Goldfinch     13,528   N Ireland  2022      1     6   \n",
       "196      Great_tit     11,761   N Ireland  2022      1     7   \n",
       "197          Robin     10,645   N Ireland  2022      1     8   \n",
       "198         Magpie      9,400   N Ireland  2022      1     9   \n",
       "199       Coal_tit      7,719   N Ireland  2022      1    10   \n",
       "\n",
       "     2025_perc_gardens perc_change_n change_perc_gardens  \n",
       "0                 59.4       -11.30%              -4.80%  \n",
       "1                 76.2        -8.60%              -4.50%  \n",
       "2                 78.4         8.70%               2.30%  \n",
       "3                 34.4        -5.70%              -3.50%  \n",
       "4                 81.8         9.30%               3.00%  \n",
       "..                 ...           ...                 ...  \n",
       "195               35.2         6.00%               3.70%  \n",
       "196               57.2       -15.90%              -7.70%  \n",
       "197               90.8        10.90%               1.10%  \n",
       "198               67.3         4.70%               3.10%  \n",
       "199               49.9        -5.10%              -1.40%  \n",
       "\n",
       "[200 rows x 9 columns]"
      ]
     },
     "execution_count": 64,
     "metadata": {},
     "output_type": "execute_result"
    }
   ],
   "source": [
    "pivot = top10\n",
    "pivot"
   ]
  }
 ],
 "metadata": {
  "kernelspec": {
   "display_name": "py3_viz",
   "language": "python",
   "name": "python3"
  },
  "language_info": {
   "codemirror_mode": {
    "name": "ipython",
    "version": 3
   },
   "file_extension": ".py",
   "mimetype": "text/x-python",
   "name": "python",
   "nbconvert_exporter": "python",
   "pygments_lexer": "ipython3",
   "version": "3.9.2"
  }
 },
 "nbformat": 4,
 "nbformat_minor": 5
}
