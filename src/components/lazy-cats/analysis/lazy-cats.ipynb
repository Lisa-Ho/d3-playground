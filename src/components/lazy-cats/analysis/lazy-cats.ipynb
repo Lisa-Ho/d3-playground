{
 "cells": [
  {
   "cell_type": "code",
   "execution_count": 1,
   "id": "795c87b0",
   "metadata": {},
   "outputs": [],
   "source": [
    "import pandas as pd\n",
    "import matplotlib.pyplot as plt\n",
    "import numpy as np"
   ]
  },
  {
   "cell_type": "code",
   "execution_count": 43,
   "id": "fd3a6242",
   "metadata": {},
   "outputs": [
    {
     "data": {
      "text/html": [
       "<div>\n",
       "<style scoped>\n",
       "    .dataframe tbody tr th:only-of-type {\n",
       "        vertical-align: middle;\n",
       "    }\n",
       "\n",
       "    .dataframe tbody tr th {\n",
       "        vertical-align: top;\n",
       "    }\n",
       "\n",
       "    .dataframe thead th {\n",
       "        text-align: right;\n",
       "    }\n",
       "</style>\n",
       "<table border=\"1\" class=\"dataframe\">\n",
       "  <thead>\n",
       "    <tr style=\"text-align: right;\">\n",
       "      <th></th>\n",
       "      <th>Cat_id</th>\n",
       "      <th>Season</th>\n",
       "      <th>Total</th>\n",
       "      <th>propActive</th>\n",
       "      <th>propLying</th>\n",
       "      <th>propSitting</th>\n",
       "      <th>propStanding</th>\n",
       "      <th>propGrooming</th>\n",
       "      <th>propLittering</th>\n",
       "      <th>propEating</th>\n",
       "      <th>...</th>\n",
       "      <th>Cat2</th>\n",
       "      <th>Dog</th>\n",
       "      <th>propLazy</th>\n",
       "      <th>pose1_value</th>\n",
       "      <th>pose1</th>\n",
       "      <th>pose2_value</th>\n",
       "      <th>pose2</th>\n",
       "      <th>pose3_value</th>\n",
       "      <th>pose3</th>\n",
       "      <th>pose_other_value</th>\n",
       "    </tr>\n",
       "  </thead>\n",
       "  <tbody>\n",
       "    <tr>\n",
       "      <th>0</th>\n",
       "      <td>Cat1</td>\n",
       "      <td>Summer</td>\n",
       "      <td>604801</td>\n",
       "      <td>4.5</td>\n",
       "      <td>18.0</td>\n",
       "      <td>46.5</td>\n",
       "      <td>15.2</td>\n",
       "      <td>11.0</td>\n",
       "      <td>0.0</td>\n",
       "      <td>4.6</td>\n",
       "      <td>...</td>\n",
       "      <td>Single</td>\n",
       "      <td>Yes</td>\n",
       "      <td>64.5</td>\n",
       "      <td>46.5</td>\n",
       "      <td>propSitting</td>\n",
       "      <td>18.0</td>\n",
       "      <td>propLying</td>\n",
       "      <td>15.2</td>\n",
       "      <td>propStanding</td>\n",
       "      <td>23.1</td>\n",
       "    </tr>\n",
       "    <tr>\n",
       "      <th>1</th>\n",
       "      <td>Cat10</td>\n",
       "      <td>Summer</td>\n",
       "      <td>604801</td>\n",
       "      <td>5.4</td>\n",
       "      <td>36.2</td>\n",
       "      <td>35.5</td>\n",
       "      <td>8.0</td>\n",
       "      <td>8.5</td>\n",
       "      <td>0.1</td>\n",
       "      <td>6.1</td>\n",
       "      <td>...</td>\n",
       "      <td>Single</td>\n",
       "      <td>Yes</td>\n",
       "      <td>71.7</td>\n",
       "      <td>36.2</td>\n",
       "      <td>propLying</td>\n",
       "      <td>35.5</td>\n",
       "      <td>propSitting</td>\n",
       "      <td>8.5</td>\n",
       "      <td>propGrooming</td>\n",
       "      <td>46.8</td>\n",
       "    </tr>\n",
       "    <tr>\n",
       "      <th>2</th>\n",
       "      <td>Cat11</td>\n",
       "      <td>Summer</td>\n",
       "      <td>604801</td>\n",
       "      <td>5.6</td>\n",
       "      <td>21.6</td>\n",
       "      <td>57.2</td>\n",
       "      <td>8.4</td>\n",
       "      <td>5.6</td>\n",
       "      <td>0.1</td>\n",
       "      <td>1.4</td>\n",
       "      <td>...</td>\n",
       "      <td>Multi</td>\n",
       "      <td>No</td>\n",
       "      <td>78.8</td>\n",
       "      <td>57.2</td>\n",
       "      <td>propSitting</td>\n",
       "      <td>21.6</td>\n",
       "      <td>propLying</td>\n",
       "      <td>8.4</td>\n",
       "      <td>propStanding</td>\n",
       "      <td>26.0</td>\n",
       "    </tr>\n",
       "    <tr>\n",
       "      <th>3</th>\n",
       "      <td>Cat12</td>\n",
       "      <td>Summer</td>\n",
       "      <td>604801</td>\n",
       "      <td>4.2</td>\n",
       "      <td>32.2</td>\n",
       "      <td>47.3</td>\n",
       "      <td>8.5</td>\n",
       "      <td>4.9</td>\n",
       "      <td>0.0</td>\n",
       "      <td>2.8</td>\n",
       "      <td>...</td>\n",
       "      <td>Multi</td>\n",
       "      <td>No</td>\n",
       "      <td>79.5</td>\n",
       "      <td>47.3</td>\n",
       "      <td>propSitting</td>\n",
       "      <td>32.2</td>\n",
       "      <td>propLying</td>\n",
       "      <td>8.5</td>\n",
       "      <td>propStanding</td>\n",
       "      <td>35.7</td>\n",
       "    </tr>\n",
       "    <tr>\n",
       "      <th>4</th>\n",
       "      <td>Cat13</td>\n",
       "      <td>Summer</td>\n",
       "      <td>604801</td>\n",
       "      <td>2.4</td>\n",
       "      <td>45.4</td>\n",
       "      <td>23.9</td>\n",
       "      <td>17.4</td>\n",
       "      <td>2.9</td>\n",
       "      <td>0.0</td>\n",
       "      <td>8.0</td>\n",
       "      <td>...</td>\n",
       "      <td>Single</td>\n",
       "      <td>Yes</td>\n",
       "      <td>69.3</td>\n",
       "      <td>45.4</td>\n",
       "      <td>propLying</td>\n",
       "      <td>23.9</td>\n",
       "      <td>propSitting</td>\n",
       "      <td>17.4</td>\n",
       "      <td>propStanding</td>\n",
       "      <td>19.8</td>\n",
       "    </tr>\n",
       "  </tbody>\n",
       "</table>\n",
       "<p>5 rows × 34 columns</p>\n",
       "</div>"
      ],
      "text/plain": [
       "  Cat_id  Season   Total  propActive  propLying  propSitting  propStanding  \\\n",
       "0   Cat1  Summer  604801         4.5       18.0         46.5          15.2   \n",
       "1  Cat10  Summer  604801         5.4       36.2         35.5           8.0   \n",
       "2  Cat11  Summer  604801         5.6       21.6         57.2           8.4   \n",
       "3  Cat12  Summer  604801         4.2       32.2         47.3           8.5   \n",
       "4  Cat13  Summer  604801         2.4       45.4         23.9          17.4   \n",
       "\n",
       "   propGrooming  propLittering  propEating  ...    Cat2  Dog propLazy  \\\n",
       "0          11.0            0.0         4.6  ...  Single  Yes     64.5   \n",
       "1           8.5            0.1         6.1  ...  Single  Yes     71.7   \n",
       "2           5.6            0.1         1.4  ...   Multi   No     78.8   \n",
       "3           4.9            0.0         2.8  ...   Multi   No     79.5   \n",
       "4           2.9            0.0         8.0  ...  Single  Yes     69.3   \n",
       "\n",
       "   pose1_value        pose1 pose2_value        pose2 pose3_value  \\\n",
       "0         46.5  propSitting        18.0    propLying        15.2   \n",
       "1         36.2    propLying        35.5  propSitting         8.5   \n",
       "2         57.2  propSitting        21.6    propLying         8.4   \n",
       "3         47.3  propSitting        32.2    propLying         8.5   \n",
       "4         45.4    propLying        23.9  propSitting        17.4   \n",
       "\n",
       "          pose3 pose_other_value  \n",
       "0  propStanding             23.1  \n",
       "1  propGrooming             46.8  \n",
       "2  propStanding             26.0  \n",
       "3  propStanding             35.7  \n",
       "4  propStanding             19.8  \n",
       "\n",
       "[5 rows x 34 columns]"
      ]
     },
     "execution_count": 43,
     "metadata": {},
     "output_type": "execute_result"
    }
   ],
   "source": [
    "#load data\n",
    "df_raw = pd.read_csv('Weekly_Data.csv')\n",
    "\n",
    "#reduce number of columns\n",
    "df_raw = df_raw[['Cat_id', 'Season', 'Total', 'propActive',\n",
    "       'propLying', 'propSitting', 'propStanding', 'propGrooming',\n",
    "       'propLittering', 'propEating', 'propScratching', 'Cat_Age', 'Cat_Sex',\n",
    "       'BW', 'BCS', 'BCS_ord', 'Housing', 'Area', 'Diet', 'Coat', 'Owner',\n",
    "       'Owner_Age', 'Children', 'Cat1', 'Cat2', 'Dog' ]]\n",
    "\n",
    "#prepare\n",
    "for column in df_raw[['propActive','propLying', 'propSitting', 'propStanding', 'propGrooming',\n",
    "       'propLittering', 'propEating', 'propScratching']]:\n",
    "    df_raw[column] = [round(i,3)*100 for i in df_raw[column]]\n",
    "\n",
    "#caculate total 'laziness' = time lying or sitting\n",
    "df_raw[\"propLazy\"] = df_raw[['propLying', 'propSitting']].sum(axis=1)\n",
    "\n",
    "#get top3 poses\n",
    "def get_nth_largest(row, n):\n",
    "    sorted_row = row.dropna().sort_values(ascending=False)\n",
    "    if len(sorted_row) >= n:\n",
    "        return pd.Series({\n",
    "            f\"pose{n}_value\": sorted_row.iloc[n - 1],\n",
    "            f\"pose{n}_column\": sorted_row.index[n - 1]\n",
    "        })\n",
    "    else:\n",
    "        return pd.Series({\n",
    "            f\"pose{n}_value\": np.nan,\n",
    "            f\"pose{n}_column\": None\n",
    "        })\n",
    "\n",
    "columns = ['propSitting','propLying','propStanding', 'propActive',\n",
    "           'propGrooming','propLittering', 'propEating',\n",
    "           'propScratching']\n",
    "\n",
    "df_raw[[\"pose1_value\", \"pose1\"]] =  df_raw[columns].apply(\n",
    "    lambda row: get_nth_largest(row, 1), axis=1)\n",
    "df_raw[[\"pose2_value\", \"pose2\"]] =  df_raw[columns].apply(\n",
    "    lambda row: get_nth_largest(row, 2), axis=1)\n",
    "df_raw[[\"pose3_value\", \"pose3\"]] =  df_raw[columns].apply(\n",
    "    lambda row: get_nth_largest(row, 3), axis=1)\n",
    "df_raw[\"pose_other_value\"] = 100 - df_raw[[\"pose1_value\", \"pose3_value\", \"pose3_value\"]].sum(axis=1)\n",
    "\n",
    "df_raw.head()"
   ]
  },
  {
   "cell_type": "code",
   "execution_count": null,
   "id": "c5262365",
   "metadata": {},
   "outputs": [
    {
     "data": {
      "text/html": [
       "<div>\n",
       "<style scoped>\n",
       "    .dataframe tbody tr th:only-of-type {\n",
       "        vertical-align: middle;\n",
       "    }\n",
       "\n",
       "    .dataframe tbody tr th {\n",
       "        vertical-align: top;\n",
       "    }\n",
       "\n",
       "    .dataframe thead th {\n",
       "        text-align: right;\n",
       "    }\n",
       "</style>\n",
       "<table border=\"1\" class=\"dataframe\">\n",
       "  <thead>\n",
       "    <tr style=\"text-align: right;\">\n",
       "      <th></th>\n",
       "      <th>Cat_id</th>\n",
       "      <th>propActive</th>\n",
       "      <th>propLying</th>\n",
       "      <th>propSitting</th>\n",
       "      <th>propStanding</th>\n",
       "      <th>propGrooming</th>\n",
       "      <th>propLittering</th>\n",
       "      <th>propEating</th>\n",
       "      <th>propScratching</th>\n",
       "      <th>Cat_Age</th>\n",
       "      <th>...</th>\n",
       "      <th>pose2_value_winter</th>\n",
       "      <th>pose2_winter</th>\n",
       "      <th>pose3_value_winter</th>\n",
       "      <th>pose3_winter</th>\n",
       "      <th>pose_other_value_winter</th>\n",
       "      <th>lazy_season</th>\n",
       "      <th>lazy_diff</th>\n",
       "      <th>stripe1</th>\n",
       "      <th>stripe2</th>\n",
       "      <th>stripe3</th>\n",
       "    </tr>\n",
       "  </thead>\n",
       "  <tbody>\n",
       "    <tr>\n",
       "      <th>0</th>\n",
       "      <td>Cat1</td>\n",
       "      <td>3.50</td>\n",
       "      <td>39.95</td>\n",
       "      <td>27.65</td>\n",
       "      <td>12.5</td>\n",
       "      <td>7.20</td>\n",
       "      <td>0.00</td>\n",
       "      <td>9.10</td>\n",
       "      <td>0.15</td>\n",
       "      <td>Junior</td>\n",
       "      <td>...</td>\n",
       "      <td>13.6</td>\n",
       "      <td>propEating</td>\n",
       "      <td>9.8</td>\n",
       "      <td>propStanding</td>\n",
       "      <td>18.5</td>\n",
       "      <td>winter</td>\n",
       "      <td>6.2</td>\n",
       "      <td>1</td>\n",
       "      <td>1</td>\n",
       "      <td>0</td>\n",
       "    </tr>\n",
       "    <tr>\n",
       "      <th>1</th>\n",
       "      <td>Cat10</td>\n",
       "      <td>3.50</td>\n",
       "      <td>40.70</td>\n",
       "      <td>26.40</td>\n",
       "      <td>13.7</td>\n",
       "      <td>6.20</td>\n",
       "      <td>0.10</td>\n",
       "      <td>9.25</td>\n",
       "      <td>0.20</td>\n",
       "      <td>Mature</td>\n",
       "      <td>...</td>\n",
       "      <td>19.4</td>\n",
       "      <td>propStanding</td>\n",
       "      <td>17.3</td>\n",
       "      <td>propSitting</td>\n",
       "      <td>20.2</td>\n",
       "      <td>summer</td>\n",
       "      <td>9.2</td>\n",
       "      <td>1</td>\n",
       "      <td>1</td>\n",
       "      <td>0</td>\n",
       "    </tr>\n",
       "    <tr>\n",
       "      <th>2</th>\n",
       "      <td>Cat11</td>\n",
       "      <td>3.95</td>\n",
       "      <td>39.05</td>\n",
       "      <td>36.55</td>\n",
       "      <td>9.1</td>\n",
       "      <td>4.85</td>\n",
       "      <td>0.05</td>\n",
       "      <td>6.35</td>\n",
       "      <td>0.10</td>\n",
       "      <td>Junior</td>\n",
       "      <td>...</td>\n",
       "      <td>15.9</td>\n",
       "      <td>propSitting</td>\n",
       "      <td>11.3</td>\n",
       "      <td>propEating</td>\n",
       "      <td>20.9</td>\n",
       "      <td>summer</td>\n",
       "      <td>6.4</td>\n",
       "      <td>1</td>\n",
       "      <td>1</td>\n",
       "      <td>0</td>\n",
       "    </tr>\n",
       "    <tr>\n",
       "      <th>3</th>\n",
       "      <td>Cat12</td>\n",
       "      <td>3.10</td>\n",
       "      <td>36.65</td>\n",
       "      <td>33.60</td>\n",
       "      <td>16.6</td>\n",
       "      <td>4.05</td>\n",
       "      <td>0.00</td>\n",
       "      <td>5.95</td>\n",
       "      <td>0.05</td>\n",
       "      <td>Prime</td>\n",
       "      <td>...</td>\n",
       "      <td>24.7</td>\n",
       "      <td>propStanding</td>\n",
       "      <td>19.9</td>\n",
       "      <td>propSitting</td>\n",
       "      <td>19.1</td>\n",
       "      <td>summer</td>\n",
       "      <td>18.5</td>\n",
       "      <td>0</td>\n",
       "      <td>0</td>\n",
       "      <td>0</td>\n",
       "    </tr>\n",
       "    <tr>\n",
       "      <th>4</th>\n",
       "      <td>Cat13</td>\n",
       "      <td>2.40</td>\n",
       "      <td>53.40</td>\n",
       "      <td>17.70</td>\n",
       "      <td>13.8</td>\n",
       "      <td>3.20</td>\n",
       "      <td>0.00</td>\n",
       "      <td>9.50</td>\n",
       "      <td>0.00</td>\n",
       "      <td>Prime</td>\n",
       "      <td>...</td>\n",
       "      <td>11.5</td>\n",
       "      <td>propSitting</td>\n",
       "      <td>11.0</td>\n",
       "      <td>propEating</td>\n",
       "      <td>16.6</td>\n",
       "      <td>winter</td>\n",
       "      <td>3.6</td>\n",
       "      <td>0</td>\n",
       "      <td>0</td>\n",
       "      <td>0</td>\n",
       "    </tr>\n",
       "  </tbody>\n",
       "</table>\n",
       "<p>5 rows × 53 columns</p>\n",
       "</div>"
      ],
      "text/plain": [
       "  Cat_id  propActive  propLying  propSitting  propStanding  propGrooming  \\\n",
       "0   Cat1        3.50      39.95        27.65          12.5          7.20   \n",
       "1  Cat10        3.50      40.70        26.40          13.7          6.20   \n",
       "2  Cat11        3.95      39.05        36.55           9.1          4.85   \n",
       "3  Cat12        3.10      36.65        33.60          16.6          4.05   \n",
       "4  Cat13        2.40      53.40        17.70          13.8          3.20   \n",
       "\n",
       "   propLittering  propEating  propScratching Cat_Age  ... pose2_value_winter  \\\n",
       "0           0.00        9.10            0.15  Junior  ...               13.6   \n",
       "1           0.10        9.25            0.20  Mature  ...               19.4   \n",
       "2           0.05        6.35            0.10  Junior  ...               15.9   \n",
       "3           0.00        5.95            0.05   Prime  ...               24.7   \n",
       "4           0.00        9.50            0.00   Prime  ...               11.5   \n",
       "\n",
       "   pose2_winter  pose3_value_winter  pose3_winter pose_other_value_winter  \\\n",
       "0    propEating                 9.8  propStanding                    18.5   \n",
       "1  propStanding                17.3   propSitting                    20.2   \n",
       "2   propSitting                11.3    propEating                    20.9   \n",
       "3  propStanding                19.9   propSitting                    19.1   \n",
       "4   propSitting                11.0    propEating                    16.6   \n",
       "\n",
       "  lazy_season lazy_diff stripe1 stripe2 stripe3  \n",
       "0      winter       6.2       1       1       0  \n",
       "1      summer       9.2       1       1       0  \n",
       "2      summer       6.4       1       1       0  \n",
       "3      summer      18.5       0       0       0  \n",
       "4      winter       3.6       0       0       0  \n",
       "\n",
       "[5 rows x 53 columns]"
      ]
     },
     "execution_count": 80,
     "metadata": {},
     "output_type": "execute_result"
    }
   ],
   "source": [
    "#get aggregates by cat\n",
    "df = df_raw.groupby(\"Cat_id\").agg({'propActive':\"mean\", 'propLying':\"mean\", 'propSitting':\"mean\",\n",
    "       'propStanding':\"mean\", 'propGrooming':\"mean\", 'propLittering':\"mean\", 'propEating':\"mean\",\n",
    "       'propScratching':\"mean\", 'Cat_Age':\"first\", 'Cat_Sex':\"first\", 'BW':\"first\", 'BCS':\"first\", 'BCS_ord':\"first\",\n",
    "       'Housing':\"first\", 'Area':\"first\", 'Diet':\"first\", 'Coat':\"first\", 'Owner':\"first\", 'Owner_Age':\"first\", 'Children':\"first\",\n",
    "       'Cat1':\"first\", 'Cat2':\"first\", 'Dog':\"first\",\n",
    "}).reset_index()\n",
    "\n",
    "#top 3 poses\n",
    "df[[\"pose1_value\", \"pose1\"]] =  df[columns].apply(\n",
    "    lambda row: get_nth_largest(row, 1), axis=1)\n",
    "df[[\"pose2_value\", \"pose2\"]] =  df[columns].apply(\n",
    "    lambda row: get_nth_largest(row, 2), axis=1)\n",
    "df[[\"pose3_value\", \"pose3\"]] =  df[columns].apply(\n",
    "    lambda row: get_nth_largest(row, 3), axis=1)\n",
    "df[\"pose_other_value\"] = 100 - df[[\"pose1_value\", \"pose3_value\", \"pose3_value\"]].sum(axis=1)\n",
    "\n",
    "#caculate total 'laziness' = time lying or sitting\n",
    "df[\"propLazy\"] = df[['propLying', 'propSitting']].sum(axis=1)\n",
    "\n",
    "#merge summer and winter data\n",
    "df = pd.merge(df, \n",
    "              df_raw[df_raw[\"Season\"]==\"Summer\"][[\"Cat_id\", \"propLazy\",'pose1_value', 'pose1',\n",
    "                                                   'pose2_value', 'pose2', 'pose3_value', 'pose3', \n",
    "                                                   \"pose_other_value\"]],\n",
    "              how=\"left\", suffixes=[\"\", \"_summer\"],\n",
    "              left_on=\"Cat_id\", right_on=\"Cat_id\")\n",
    "\n",
    "df = pd.merge(df, \n",
    "              df_raw[df_raw[\"Season\"]==\"Winter\"][[\"Cat_id\", \"propLazy\",'pose1_value', 'pose1', \n",
    "                                                  'pose2_value', 'pose2', 'pose3_value', 'pose3',\n",
    "                                                    \"pose_other_value\"]],\n",
    "              how=\"left\", suffixes=[\"\", \"_winter\"],\n",
    "              left_on=\"Cat_id\", right_on=\"Cat_id\")\n",
    "\n",
    "#more lazy in summer or winter\n",
    "df[\"lazy_season\"] = df[[\"propLazy_summer\", \"propLazy_winter\"]].idxmax(axis=1).str.split(\"_\").str[1]\n",
    "df[\"lazy_diff\"] = (df[\"propLazy_summer\"] - df[\"propLazy_winter\"]).abs()\n",
    "\n",
    "#convert weight rating into dummy variables (5=Ideal > no stripes, 6=Overweight, 7=Heavy, 8=Obese > 3 stripes)\n",
    "df[\"stripe1\"] = [1 if i > 5 else 0 for i in df[\"BCS\"]]\n",
    "df[\"stripe2\"] = [1 if i > 6 else 0 for i in df[\"BCS\"]]\n",
    "df[\"stripe3\"] = [1 if i > 7 else 0 for i in df[\"BCS\"]]\n",
    "\n",
    "df.head()"
   ]
  },
  {
   "cell_type": "code",
   "execution_count": 68,
   "id": "cb8bcbc5",
   "metadata": {},
   "outputs": [
    {
     "data": {
      "text/plain": [
       "Index(['Cat_id', 'propActive', 'propLying', 'propSitting', 'propStanding',\n",
       "       'propGrooming', 'propLittering', 'propEating', 'propScratching',\n",
       "       'Cat_Age', 'Cat_Sex', 'BW', 'BCS', 'BCS_ord', 'Housing', 'Area', 'Diet',\n",
       "       'Coat', 'Owner', 'Owner_Age', 'Children', 'Cat1', 'Cat2', 'Dog',\n",
       "       'pose1_value', 'pose1', 'pose2_value', 'pose2', 'pose3_value', 'pose3',\n",
       "       'pose_other_value', 'propLazy', 'propLazy_summer', 'pose1_value_summer',\n",
       "       'pose1_summer', 'pose2_value_summer', 'pose2_summer',\n",
       "       'pose3_value_summer', 'pose3_summer', 'pose_other_value_summer',\n",
       "       'propLazy_winter', 'pose1_value_winter', 'pose1_winter',\n",
       "       'pose2_value_winter', 'pose2_winter', 'pose3_value_winter',\n",
       "       'pose3_winter', 'pose_other_value_winter', 'lazy_season', 'stripe1',\n",
       "       'stripe2', 'stripe3'],\n",
       "      dtype='object')"
      ]
     },
     "execution_count": 68,
     "metadata": {},
     "output_type": "execute_result"
    }
   ],
   "source": [
    "df.columns"
   ]
  },
  {
   "cell_type": "code",
   "execution_count": 63,
   "id": "31e4f76e",
   "metadata": {},
   "outputs": [
    {
     "data": {
      "text/plain": [
       "summer    15\n",
       "winter    13\n",
       "Name: lazy_season, dtype: int64"
      ]
     },
     "execution_count": 63,
     "metadata": {},
     "output_type": "execute_result"
    }
   ],
   "source": [
    "df[\"lazy_season\"].value_counts()"
   ]
  },
  {
   "cell_type": "code",
   "execution_count": 71,
   "id": "cac49995",
   "metadata": {},
   "outputs": [
    {
     "data": {
      "text/plain": [
       "stripe1    17\n",
       "stripe2     8\n",
       "stripe3     1\n",
       "dtype: int64"
      ]
     },
     "execution_count": 71,
     "metadata": {},
     "output_type": "execute_result"
    }
   ],
   "source": [
    "df[['stripe1', 'stripe2', 'stripe3']].sum()"
   ]
  },
  {
   "cell_type": "code",
   "execution_count": 53,
   "id": "cbc1f534",
   "metadata": {},
   "outputs": [
    {
     "data": {
      "text/plain": [
       "pose1        pose2         pose3       \n",
       "propSitting  propLying     propStanding    14\n",
       "propLying    propSitting   propStanding    13\n",
       "             propStanding  propSitting      1\n",
       "dtype: int64"
      ]
     },
     "execution_count": 53,
     "metadata": {},
     "output_type": "execute_result"
    }
   ],
   "source": [
    "df[[\"pose1\", \"pose2\", \"pose3\"]].value_counts()"
   ]
  },
  {
   "cell_type": "code",
   "execution_count": 54,
   "id": "86b529f5",
   "metadata": {},
   "outputs": [
    {
     "data": {
      "text/plain": [
       "pose1_winter  pose2_winter  pose3_winter\n",
       "propSitting   propLying     propStanding    14\n",
       "propLying     propSitting   propStanding     6\n",
       "              propStanding  propSitting      5\n",
       "              propSitting   propEating       2\n",
       "              propEating    propStanding     1\n",
       "dtype: int64"
      ]
     },
     "execution_count": 54,
     "metadata": {},
     "output_type": "execute_result"
    }
   ],
   "source": [
    "df[[\"pose1_winter\", \"pose2_winter\", \"pose3_winter\"]].value_counts()"
   ]
  },
  {
   "cell_type": "code",
   "execution_count": 55,
   "id": "a6a05c9a",
   "metadata": {},
   "outputs": [
    {
     "data": {
      "text/plain": [
       "pose1_summer  pose2_summer  pose3_summer\n",
       "propLying     propSitting   propStanding    12\n",
       "propSitting   propLying     propStanding    10\n",
       "                            propGrooming     2\n",
       "propLying     propSitting   propEating       1\n",
       "                            propGrooming     1\n",
       "              propStanding  propSitting      1\n",
       "propSitting   propLying     propEating       1\n",
       "dtype: int64"
      ]
     },
     "execution_count": 55,
     "metadata": {},
     "output_type": "execute_result"
    }
   ],
   "source": [
    "df[[\"pose1_summer\", \"pose2_summer\", \"pose3_summer\"]].value_counts()"
   ]
  },
  {
   "cell_type": "code",
   "execution_count": 42,
   "id": "1c4c9fc8",
   "metadata": {},
   "outputs": [
    {
     "data": {
      "text/plain": [
       "count    28.000000\n",
       "mean     73.307143\n",
       "std       5.931003\n",
       "min      59.350000\n",
       "25%      69.800000\n",
       "50%      74.175000\n",
       "75%      76.987500\n",
       "max      84.300000\n",
       "Name: propLazy, dtype: float64"
      ]
     },
     "execution_count": 42,
     "metadata": {},
     "output_type": "execute_result"
    }
   ],
   "source": [
    "df[\"propLazy\"].describe()"
   ]
  },
  {
   "cell_type": "markdown",
   "id": "d20ab07c",
   "metadata": {},
   "source": [
    "## Exploration"
   ]
  },
  {
   "cell_type": "code",
   "execution_count": 74,
   "id": "09a1ae92",
   "metadata": {},
   "outputs": [
    {
     "data": {
      "text/plain": [
       "Index(['Cat_id', 'propActive', 'propLying', 'propSitting', 'propStanding',\n",
       "       'propGrooming', 'propLittering', 'propEating', 'propScratching',\n",
       "       'Cat_Age', 'Cat_Sex', 'BW', 'BCS', 'BCS_ord', 'Housing', 'Area', 'Diet',\n",
       "       'Coat', 'Owner', 'Owner_Age', 'Children', 'Cat1', 'Cat2', 'Dog',\n",
       "       'pose1_value', 'pose1', 'pose2_value', 'pose2', 'pose3_value', 'pose3',\n",
       "       'pose_other_value', 'propLazy', 'propLazy_summer', 'pose1_value_summer',\n",
       "       'pose1_summer', 'pose2_value_summer', 'pose2_summer',\n",
       "       'pose3_value_summer', 'pose3_summer', 'pose_other_value_summer',\n",
       "       'propLazy_winter', 'pose1_value_winter', 'pose1_winter',\n",
       "       'pose2_value_winter', 'pose2_winter', 'pose3_value_winter',\n",
       "       'pose3_winter', 'pose_other_value_winter', 'lazy_season', 'stripe1',\n",
       "       'stripe2', 'stripe3'],\n",
       "      dtype='object')"
      ]
     },
     "execution_count": 74,
     "metadata": {},
     "output_type": "execute_result"
    }
   ],
   "source": [
    "df.columns"
   ]
  },
  {
   "cell_type": "markdown",
   "id": "361dbe5c",
   "metadata": {},
   "source": [
    "### Lazy cats beeswarm"
   ]
  },
  {
   "cell_type": "code",
   "execution_count": 142,
   "id": "2eaee3ae",
   "metadata": {},
   "outputs": [
    {
     "data": {
      "text/plain": [
       "<matplotlib.collections.PathCollection at 0x1d02e88f880>"
      ]
     },
     "execution_count": 142,
     "metadata": {},
     "output_type": "execute_result"
    },
    {
     "data": {
      "image/png": "[encoded data removed]",
      "text/plain": [
       "<Figure size 432x288 with 1 Axes>"
      ]
     },
     "metadata": {
      "needs_background": "light"
     },
     "output_type": "display_data"
    }
   ],
   "source": [
    "## Scatter\n",
    "fig, ax = plt.subplots()\n",
    "ax.scatter(df[\"propLazy\"], df[\"lazy_diff\"])\n"
   ]
  },
  {
   "cell_type": "code",
   "execution_count": null,
   "id": "6ea83e59",
   "metadata": {},
   "outputs": [],
   "source": []
  },
  {
   "cell_type": "code",
   "execution_count": 149,
   "id": "525fe2ea",
   "metadata": {},
   "outputs": [
    {
     "data": {
      "text/plain": [
       "<matplotlib.collections.PathCollection at 0x1d02fb13c10>"
      ]
     },
     "execution_count": 149,
     "metadata": {},
     "output_type": "execute_result"
    },
    {
     "data": {
      "image/png": "[encoded data removed]",
      "text/plain": [
       "<Figure size 432x288 with 1 Axes>"
      ]
     },
     "metadata": {
      "needs_background": "light"
     },
     "output_type": "display_data"
    }
   ],
   "source": [
    "def relax_y_positions(x_vals, y_vals, radius=3, iterations=10):\n",
    "    y = y_vals.copy()\n",
    "    for _ in range(iterations):\n",
    "        for i in range(len(x_vals)):\n",
    "            for j in range(i + 1, len(x_vals)):\n",
    "                if abs(x_vals[i] - x_vals[j]) < 1:\n",
    "                    dy = y[j] - y[i]\n",
    "                    if abs(dy) < 2 * radius:\n",
    "                        shift = (2 * radius - abs(dy)) / 2\n",
    "                        direction = 1 if dy >= 0 else -1\n",
    "                        y[i] -= shift * direction\n",
    "                        y[j] += shift * direction\n",
    "    return y\n",
    "\n",
    "new_y = relax_y_positions(df[\"propLazy\"], df[\"lazy_diff\"])\n",
    "\n",
    "## Scatter\n",
    "fig, ax = plt.subplots()\n",
    "ax.scatter(df[\"propLazy\"], new_y)"
   ]
  },
  {
   "cell_type": "code",
   "execution_count": null,
   "id": "2a940934",
   "metadata": {},
   "outputs": [],
   "source": []
  }
 ],
 "metadata": {
  "kernelspec": {
   "display_name": "py3_viz",
   "language": "python",
   "name": "python3"
  },
  "language_info": {
   "codemirror_mode": {
    "name": "ipython",
    "version": 3
   },
   "file_extension": ".py",
   "mimetype": "text/x-python",
   "name": "python",
   "nbconvert_exporter": "python",
   "pygments_lexer": "ipython3",
   "version": "3.9.2"
  }
 },
 "nbformat": 4,
 "nbformat_minor": 5
}
